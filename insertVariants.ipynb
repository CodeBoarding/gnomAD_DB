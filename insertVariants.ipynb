{
 "cells": [
  {
   "cell_type": "code",
   "execution_count": null,
   "id": "2b5b398d-0ffe-4df9-8e57-5aaca0be0949",
   "metadata": {},
   "outputs": [],
   "source": [
    "from gnomad_db.gnomad_db import gnomAD_DB\n",
    "import pandas as pd\n",
    "import gzip\n",
    "from tqdm import tqdm\n",
    "from joblib import Parallel, delayed"
   ]
  },
  {
   "cell_type": "code",
   "execution_count": null,
   "id": "64e9a9cf-eafb-4463-ad7c-2139fea506b6",
   "metadata": {},
   "outputs": [],
   "source": [
    "# initialize database\n",
    "db = gnomAD_DB(\"/s/project/variantDatabase/fastStorage/gnomAD/3.1.1\")"
   ]
  },
  {
   "cell_type": "code",
   "execution_count": null,
   "id": "581b04b7-4b0d-4be5-b73f-fff1ebdd7e94",
   "metadata": {},
   "outputs": [],
   "source": [
    "# read variants from tsv.gz table in batches\n",
    "def load_batches(file, batch_size=100_000):\n",
    "    with gzip.open(file, \"rb\") as f:\n",
    "        batch = []\n",
    "        for line in tqdm(f):\n",
    "            line = line.decode().rstrip()\n",
    "            if len(batch) == batch_size:\n",
    "                batch = pd.DataFrame(batch, columns=db.columns).replace(\".\", \"NULL\")\n",
    "                yield batch\n",
    "                batch = []\n",
    "\n",
    "            batch.append(line.split(\"\\t\"))\n",
    "        \n",
    "        \n",
    "        if len(batch) != 0:\n",
    "            batch = pd.DataFrame(batch, columns=db.columns).replace(\".\", \"NULL\")\n",
    "            yield batch\n",
    "        "
   ]
  },
  {
   "cell_type": "code",
   "execution_count": null,
   "id": "fa8db6b3-8d6b-4ad0-ab8d-fb56728aeb61",
   "metadata": {},
   "outputs": [],
   "source": [
    "#for batch in load_batches(\"data/gnomad.genomes.v3.1.1.sites.chr1.tsv.gz\", 50000):\n",
    "#    # insert variants\n",
    "#    db.insert_variants(batch)"
   ]
  },
  {
   "cell_type": "code",
   "execution_count": null,
   "id": "845c883b-1dc4-467f-9e68-cebc6a48d0bf",
   "metadata": {},
   "outputs": [],
   "source": [
    "tables = glob.glob(\"/data/ouga/home/ag_gagneur/nonchev/code/gnomAD/data/*.tsv.gz\")\n",
    "tables"
   ]
  },
  {
   "cell_type": "code",
   "execution_count": null,
   "id": "8dcb3d50-d8f5-49e0-97d8-14bc065dd080",
   "metadata": {},
   "outputs": [],
   "source": [
    "# load variants in parallel"
   ]
  },
  {
   "cell_type": "code",
   "execution_count": null,
   "id": "065488a5-1151-4559-bb23-1bed1f056200",
   "metadata": {},
   "outputs": [],
   "source": [
    "for table in tqdm(tables):\n",
    "    Parallel(12)(delayed(db.insert_variants)(batch) for batch in load_batches(table))"
   ]
  },
  {
   "cell_type": "code",
   "execution_count": null,
   "id": "3227fc44-180a-4221-bb09-1eb5d291fa3a",
   "metadata": {},
   "outputs": [],
   "source": []
  }
 ],
 "metadata": {
  "kernelspec": {
   "display_name": "utr_anno",
   "language": "python",
   "name": "utr_anno"
  },
  "language_info": {
   "codemirror_mode": {
    "name": "ipython",
    "version": 3
   },
   "file_extension": ".py",
   "mimetype": "text/x-python",
   "name": "python",
   "nbconvert_exporter": "python",
   "pygments_lexer": "ipython3",
   "version": "3.8.8"
  }
 },
 "nbformat": 4,
 "nbformat_minor": 5
}
