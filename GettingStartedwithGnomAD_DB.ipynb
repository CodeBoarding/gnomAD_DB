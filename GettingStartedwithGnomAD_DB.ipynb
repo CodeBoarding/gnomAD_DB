{
 "cells": [
  {
   "cell_type": "code",
   "execution_count": 1,
   "id": "98d3ae32-d439-41bf-be89-3e6f52a3591f",
   "metadata": {},
   "outputs": [],
   "source": [
    "from gnomad_db.gnomad_db import gnomAD_DB\n",
    "import pandas as pd\n",
    "import numpy as np"
   ]
  },
  {
   "cell_type": "markdown",
   "id": "3fa70b8a-1d43-4929-bfee-4df0d071f9fa",
   "metadata": {},
   "source": [
    "# Initialize Database"
   ]
  },
  {
   "cell_type": "code",
   "execution_count": 2,
   "id": "2f7dc0cb-9748-4de8-b93d-0fad06b62f02",
   "metadata": {},
   "outputs": [],
   "source": [
    "# pass dir\n",
    "database_location = \"data\""
   ]
  },
  {
   "cell_type": "code",
   "execution_count": 3,
   "id": "c357c0be-a00e-49a6-9159-07a700ec861a",
   "metadata": {},
   "outputs": [],
   "source": [
    "# initialize database\n",
    "db = gnomAD_DB(database_location)"
   ]
  },
  {
   "cell_type": "markdown",
   "id": "42952d85-f2fe-4fd8-baed-a2097082ffd0",
   "metadata": {},
   "source": [
    "# Insert gnomAD variants into the database from single tsv file\n",
    "Look into insertVariants notebook to do it for big vcf files"
   ]
  },
  {
   "cell_type": "code",
   "execution_count": 4,
   "id": "ac07902b-239b-479d-b81b-ecf37a67e163",
   "metadata": {},
   "outputs": [
    {
     "data": {
      "text/html": [
       "<div>\n",
       "<style scoped>\n",
       "    .dataframe tbody tr th:only-of-type {\n",
       "        vertical-align: middle;\n",
       "    }\n",
       "\n",
       "    .dataframe tbody tr th {\n",
       "        vertical-align: top;\n",
       "    }\n",
       "\n",
       "    .dataframe thead th {\n",
       "        text-align: right;\n",
       "    }\n",
       "</style>\n",
       "<table border=\"1\" class=\"dataframe\">\n",
       "  <thead>\n",
       "    <tr style=\"text-align: right;\">\n",
       "      <th></th>\n",
       "      <th>chrom</th>\n",
       "      <th>pos</th>\n",
       "      <th>ref</th>\n",
       "      <th>alt</th>\n",
       "      <th>AF</th>\n",
       "      <th>AF_afr</th>\n",
       "      <th>AF_eas</th>\n",
       "      <th>AF_fin</th>\n",
       "      <th>AF_nfe</th>\n",
       "      <th>AF_asj</th>\n",
       "      <th>AF_oth</th>\n",
       "      <th>AF_popmax</th>\n",
       "    </tr>\n",
       "  </thead>\n",
       "  <tbody>\n",
       "    <tr>\n",
       "      <th>0</th>\n",
       "      <td>chr10</td>\n",
       "      <td>10265</td>\n",
       "      <td>C</td>\n",
       "      <td>T</td>\n",
       "      <td>0.000000</td>\n",
       "      <td>0.0</td>\n",
       "      <td>0.0</td>\n",
       "      <td>0.000000</td>\n",
       "      <td>0.000000</td>\n",
       "      <td>0.0</td>\n",
       "      <td>0.0</td>\n",
       "      <td>NaN</td>\n",
       "    </tr>\n",
       "    <tr>\n",
       "      <th>1</th>\n",
       "      <td>chr10</td>\n",
       "      <td>10266</td>\n",
       "      <td>T</td>\n",
       "      <td>A</td>\n",
       "      <td>0.000367</td>\n",
       "      <td>0.0</td>\n",
       "      <td>0.0</td>\n",
       "      <td>0.000000</td>\n",
       "      <td>0.000862</td>\n",
       "      <td>0.0</td>\n",
       "      <td>0.0</td>\n",
       "      <td>0.000862069</td>\n",
       "    </tr>\n",
       "    <tr>\n",
       "      <th>2</th>\n",
       "      <td>chr10</td>\n",
       "      <td>10266</td>\n",
       "      <td>T</td>\n",
       "      <td>C</td>\n",
       "      <td>0.000367</td>\n",
       "      <td>0.0</td>\n",
       "      <td>0.0</td>\n",
       "      <td>0.002336</td>\n",
       "      <td>0.000000</td>\n",
       "      <td>0.0</td>\n",
       "      <td>0.0</td>\n",
       "      <td>NaN</td>\n",
       "    </tr>\n",
       "    <tr>\n",
       "      <th>3</th>\n",
       "      <td>chr10</td>\n",
       "      <td>10268</td>\n",
       "      <td>A</td>\n",
       "      <td>C</td>\n",
       "      <td>0.000331</td>\n",
       "      <td>0.0</td>\n",
       "      <td>0.0</td>\n",
       "      <td>0.002415</td>\n",
       "      <td>0.000000</td>\n",
       "      <td>0.0</td>\n",
       "      <td>0.0</td>\n",
       "      <td>NaN</td>\n",
       "    </tr>\n",
       "    <tr>\n",
       "      <th>4</th>\n",
       "      <td>chr10</td>\n",
       "      <td>10278</td>\n",
       "      <td>T</td>\n",
       "      <td>C</td>\n",
       "      <td>0.000000</td>\n",
       "      <td>0.0</td>\n",
       "      <td>0.0</td>\n",
       "      <td>0.000000</td>\n",
       "      <td>0.000000</td>\n",
       "      <td>0.0</td>\n",
       "      <td>0.0</td>\n",
       "      <td>NaN</td>\n",
       "    </tr>\n",
       "  </tbody>\n",
       "</table>\n",
       "</div>"
      ],
      "text/plain": [
       "   chrom    pos ref alt        AF  AF_afr  AF_eas    AF_fin    AF_nfe  AF_asj  \\\n",
       "0  chr10  10265   C   T  0.000000     0.0     0.0  0.000000  0.000000     0.0   \n",
       "1  chr10  10266   T   A  0.000367     0.0     0.0  0.000000  0.000862     0.0   \n",
       "2  chr10  10266   T   C  0.000367     0.0     0.0  0.002336  0.000000     0.0   \n",
       "3  chr10  10268   A   C  0.000331     0.0     0.0  0.002415  0.000000     0.0   \n",
       "4  chr10  10278   T   C  0.000000     0.0     0.0  0.000000  0.000000     0.0   \n",
       "\n",
       "   AF_oth    AF_popmax  \n",
       "0     0.0          NaN  \n",
       "1     0.0  0.000862069  \n",
       "2     0.0          NaN  \n",
       "3     0.0          NaN  \n",
       "4     0.0          NaN  "
      ]
     },
     "execution_count": 4,
     "metadata": {},
     "output_type": "execute_result"
    }
   ],
   "source": [
    "# get some variants\n",
    "var_df = pd.read_csv(\"data/test_chr10_n100.tsv\", sep=\"\\t\", names=db.columns, index_col=False)\n",
    "# preprocess missing values\n",
    "# IMPORTANT: The database removes internally chr prefix (chr1->1)\n",
    "var_df = var_df.replace(\".\", np.NaN)\n",
    "var_df.head()"
   ]
  },
  {
   "cell_type": "code",
   "execution_count": 5,
   "id": "809032d1-44bf-48b9-9535-a5ac3cdeb26b",
   "metadata": {},
   "outputs": [],
   "source": [
    "# insert variants\n",
    "db.insert_variants(var_df)"
   ]
  },
  {
   "cell_type": "markdown",
   "id": "6bd78960-0cc4-4585-8096-0da88d5737f6",
   "metadata": {},
   "source": [
    "# Query MAF"
   ]
  },
  {
   "cell_type": "code",
   "execution_count": 6,
   "id": "2f9dddfe-7ad7-4111-8b17-2199ee011db2",
   "metadata": {},
   "outputs": [
    {
     "data": {
      "text/plain": [
       "['chrom',\n",
       " 'pos',\n",
       " 'ref',\n",
       " 'alt',\n",
       " 'AF',\n",
       " 'AF_afr',\n",
       " 'AF_eas',\n",
       " 'AF_fin',\n",
       " 'AF_nfe',\n",
       " 'AF_asj',\n",
       " 'AF_oth',\n",
       " 'AF_popmax']"
      ]
     },
     "execution_count": 6,
     "metadata": {},
     "output_type": "execute_result"
    }
   ],
   "source": [
    "# check db columns, which we can query\n",
    "db.columns"
   ]
  },
  {
   "cell_type": "code",
   "execution_count": 7,
   "id": "bfcd6fa8-0e95-4cc3-85de-ee4eb46c5669",
   "metadata": {},
   "outputs": [
    {
     "data": {
      "text/html": [
       "<div>\n",
       "<style scoped>\n",
       "    .dataframe tbody tr th:only-of-type {\n",
       "        vertical-align: middle;\n",
       "    }\n",
       "\n",
       "    .dataframe tbody tr th {\n",
       "        vertical-align: top;\n",
       "    }\n",
       "\n",
       "    .dataframe thead th {\n",
       "        text-align: right;\n",
       "    }\n",
       "</style>\n",
       "<table border=\"1\" class=\"dataframe\">\n",
       "  <thead>\n",
       "    <tr style=\"text-align: right;\">\n",
       "      <th></th>\n",
       "      <th>chrom</th>\n",
       "      <th>pos</th>\n",
       "      <th>ref</th>\n",
       "      <th>alt</th>\n",
       "    </tr>\n",
       "  </thead>\n",
       "  <tbody>\n",
       "    <tr>\n",
       "      <th>0</th>\n",
       "      <td>chr10</td>\n",
       "      <td>10265</td>\n",
       "      <td>C</td>\n",
       "      <td>T</td>\n",
       "    </tr>\n",
       "    <tr>\n",
       "      <th>1</th>\n",
       "      <td>chr10</td>\n",
       "      <td>10266</td>\n",
       "      <td>T</td>\n",
       "      <td>A</td>\n",
       "    </tr>\n",
       "    <tr>\n",
       "      <th>2</th>\n",
       "      <td>chr10</td>\n",
       "      <td>10266</td>\n",
       "      <td>T</td>\n",
       "      <td>C</td>\n",
       "    </tr>\n",
       "    <tr>\n",
       "      <th>3</th>\n",
       "      <td>chr10</td>\n",
       "      <td>10268</td>\n",
       "      <td>A</td>\n",
       "      <td>C</td>\n",
       "    </tr>\n",
       "    <tr>\n",
       "      <th>4</th>\n",
       "      <td>chr10</td>\n",
       "      <td>10278</td>\n",
       "      <td>T</td>\n",
       "      <td>C</td>\n",
       "    </tr>\n",
       "  </tbody>\n",
       "</table>\n",
       "</div>"
      ],
      "text/plain": [
       "   chrom    pos ref alt\n",
       "0  chr10  10265   C   T\n",
       "1  chr10  10266   T   A\n",
       "2  chr10  10266   T   C\n",
       "3  chr10  10268   A   C\n",
       "4  chr10  10278   T   C"
      ]
     },
     "execution_count": 7,
     "metadata": {},
     "output_type": "execute_result"
    }
   ],
   "source": [
    "var_df = var_df[[\"chrom\", \"pos\", \"ref\", \"alt\"]]\n",
    "var_df.head()"
   ]
  },
  {
   "cell_type": "markdown",
   "id": "7e73619c-fa1f-424b-ac70-0cf3bc746a6a",
   "metadata": {},
   "source": [
    "## You can pass a dataframe with variants\n",
    "It should contain the columns: [chrom, pos, ref, alt]"
   ]
  },
  {
   "cell_type": "code",
   "execution_count": 8,
   "id": "60d26665-c328-4d6c-a33c-02ec7888f01a",
   "metadata": {},
   "outputs": [
    {
     "data": {
      "text/html": [
       "<div>\n",
       "<style scoped>\n",
       "    .dataframe tbody tr th:only-of-type {\n",
       "        vertical-align: middle;\n",
       "    }\n",
       "\n",
       "    .dataframe tbody tr th {\n",
       "        vertical-align: top;\n",
       "    }\n",
       "\n",
       "    .dataframe thead th {\n",
       "        text-align: right;\n",
       "    }\n",
       "</style>\n",
       "<table border=\"1\" class=\"dataframe\">\n",
       "  <thead>\n",
       "    <tr style=\"text-align: right;\">\n",
       "      <th></th>\n",
       "      <th>AF</th>\n",
       "    </tr>\n",
       "  </thead>\n",
       "  <tbody>\n",
       "    <tr>\n",
       "      <th>0</th>\n",
       "      <td>0.000000</td>\n",
       "    </tr>\n",
       "    <tr>\n",
       "      <th>1</th>\n",
       "      <td>0.000367</td>\n",
       "    </tr>\n",
       "    <tr>\n",
       "      <th>2</th>\n",
       "      <td>0.000367</td>\n",
       "    </tr>\n",
       "    <tr>\n",
       "      <th>3</th>\n",
       "      <td>0.000331</td>\n",
       "    </tr>\n",
       "    <tr>\n",
       "      <th>4</th>\n",
       "      <td>0.000000</td>\n",
       "    </tr>\n",
       "  </tbody>\n",
       "</table>\n",
       "</div>"
      ],
      "text/plain": [
       "         AF\n",
       "0  0.000000\n",
       "1  0.000367\n",
       "2  0.000367\n",
       "3  0.000331\n",
       "4  0.000000"
      ]
     },
     "execution_count": 8,
     "metadata": {},
     "output_type": "execute_result"
    }
   ],
   "source": [
    "db.get_maf_from_df(var_df, \"AF\").head() # only one columns"
   ]
  },
  {
   "cell_type": "code",
   "execution_count": 9,
   "id": "0d47b008-4efc-4d7d-9fe7-b2257cb96ae0",
   "metadata": {},
   "outputs": [
    {
     "data": {
      "text/html": [
       "<div>\n",
       "<style scoped>\n",
       "    .dataframe tbody tr th:only-of-type {\n",
       "        vertical-align: middle;\n",
       "    }\n",
       "\n",
       "    .dataframe tbody tr th {\n",
       "        vertical-align: top;\n",
       "    }\n",
       "\n",
       "    .dataframe thead th {\n",
       "        text-align: right;\n",
       "    }\n",
       "</style>\n",
       "<table border=\"1\" class=\"dataframe\">\n",
       "  <thead>\n",
       "    <tr style=\"text-align: right;\">\n",
       "      <th></th>\n",
       "      <th>AF</th>\n",
       "      <th>AF_popmax</th>\n",
       "    </tr>\n",
       "  </thead>\n",
       "  <tbody>\n",
       "    <tr>\n",
       "      <th>0</th>\n",
       "      <td>0.000000</td>\n",
       "      <td>NaN</td>\n",
       "    </tr>\n",
       "    <tr>\n",
       "      <th>1</th>\n",
       "      <td>0.000367</td>\n",
       "      <td>0.000862</td>\n",
       "    </tr>\n",
       "    <tr>\n",
       "      <th>2</th>\n",
       "      <td>0.000367</td>\n",
       "      <td>NaN</td>\n",
       "    </tr>\n",
       "    <tr>\n",
       "      <th>3</th>\n",
       "      <td>0.000331</td>\n",
       "      <td>NaN</td>\n",
       "    </tr>\n",
       "    <tr>\n",
       "      <th>4</th>\n",
       "      <td>0.000000</td>\n",
       "      <td>NaN</td>\n",
       "    </tr>\n",
       "  </tbody>\n",
       "</table>\n",
       "</div>"
      ],
      "text/plain": [
       "         AF  AF_popmax\n",
       "0  0.000000        NaN\n",
       "1  0.000367   0.000862\n",
       "2  0.000367        NaN\n",
       "3  0.000331        NaN\n",
       "4  0.000000        NaN"
      ]
     },
     "execution_count": 9,
     "metadata": {},
     "output_type": "execute_result"
    }
   ],
   "source": [
    "db.get_maf_from_df(var_df, \"AF, AF_popmax\").head() # multiple columns"
   ]
  },
  {
   "cell_type": "code",
   "execution_count": 10,
   "id": "05b130c5-6e37-465f-9cbb-87bb39a0079e",
   "metadata": {},
   "outputs": [
    {
     "data": {
      "text/html": [
       "<div>\n",
       "<style scoped>\n",
       "    .dataframe tbody tr th:only-of-type {\n",
       "        vertical-align: middle;\n",
       "    }\n",
       "\n",
       "    .dataframe tbody tr th {\n",
       "        vertical-align: top;\n",
       "    }\n",
       "\n",
       "    .dataframe thead th {\n",
       "        text-align: right;\n",
       "    }\n",
       "</style>\n",
       "<table border=\"1\" class=\"dataframe\">\n",
       "  <thead>\n",
       "    <tr style=\"text-align: right;\">\n",
       "      <th></th>\n",
       "      <th>chrom</th>\n",
       "      <th>pos</th>\n",
       "      <th>ref</th>\n",
       "      <th>alt</th>\n",
       "      <th>AF</th>\n",
       "      <th>AF_afr</th>\n",
       "      <th>AF_eas</th>\n",
       "      <th>AF_fin</th>\n",
       "      <th>AF_nfe</th>\n",
       "      <th>AF_asj</th>\n",
       "      <th>AF_oth</th>\n",
       "      <th>AF_popmax</th>\n",
       "    </tr>\n",
       "  </thead>\n",
       "  <tbody>\n",
       "    <tr>\n",
       "      <th>0</th>\n",
       "      <td>10</td>\n",
       "      <td>10265</td>\n",
       "      <td>C</td>\n",
       "      <td>T</td>\n",
       "      <td>0.000000</td>\n",
       "      <td>0.0</td>\n",
       "      <td>0.0</td>\n",
       "      <td>0.000000</td>\n",
       "      <td>0.000000</td>\n",
       "      <td>0.0</td>\n",
       "      <td>0.0</td>\n",
       "      <td>NaN</td>\n",
       "    </tr>\n",
       "    <tr>\n",
       "      <th>1</th>\n",
       "      <td>10</td>\n",
       "      <td>10266</td>\n",
       "      <td>T</td>\n",
       "      <td>A</td>\n",
       "      <td>0.000367</td>\n",
       "      <td>0.0</td>\n",
       "      <td>0.0</td>\n",
       "      <td>0.000000</td>\n",
       "      <td>0.000862</td>\n",
       "      <td>0.0</td>\n",
       "      <td>0.0</td>\n",
       "      <td>0.000862</td>\n",
       "    </tr>\n",
       "    <tr>\n",
       "      <th>2</th>\n",
       "      <td>10</td>\n",
       "      <td>10266</td>\n",
       "      <td>T</td>\n",
       "      <td>C</td>\n",
       "      <td>0.000367</td>\n",
       "      <td>0.0</td>\n",
       "      <td>0.0</td>\n",
       "      <td>0.002336</td>\n",
       "      <td>0.000000</td>\n",
       "      <td>0.0</td>\n",
       "      <td>0.0</td>\n",
       "      <td>NaN</td>\n",
       "    </tr>\n",
       "    <tr>\n",
       "      <th>3</th>\n",
       "      <td>10</td>\n",
       "      <td>10268</td>\n",
       "      <td>A</td>\n",
       "      <td>C</td>\n",
       "      <td>0.000331</td>\n",
       "      <td>0.0</td>\n",
       "      <td>0.0</td>\n",
       "      <td>0.002415</td>\n",
       "      <td>0.000000</td>\n",
       "      <td>0.0</td>\n",
       "      <td>0.0</td>\n",
       "      <td>NaN</td>\n",
       "    </tr>\n",
       "    <tr>\n",
       "      <th>4</th>\n",
       "      <td>10</td>\n",
       "      <td>10278</td>\n",
       "      <td>T</td>\n",
       "      <td>C</td>\n",
       "      <td>0.000000</td>\n",
       "      <td>0.0</td>\n",
       "      <td>0.0</td>\n",
       "      <td>0.000000</td>\n",
       "      <td>0.000000</td>\n",
       "      <td>0.0</td>\n",
       "      <td>0.0</td>\n",
       "      <td>NaN</td>\n",
       "    </tr>\n",
       "  </tbody>\n",
       "</table>\n",
       "</div>"
      ],
      "text/plain": [
       "  chrom    pos ref alt        AF  AF_afr  AF_eas    AF_fin    AF_nfe  AF_asj  \\\n",
       "0    10  10265   C   T  0.000000     0.0     0.0  0.000000  0.000000     0.0   \n",
       "1    10  10266   T   A  0.000367     0.0     0.0  0.000000  0.000862     0.0   \n",
       "2    10  10266   T   C  0.000367     0.0     0.0  0.002336  0.000000     0.0   \n",
       "3    10  10268   A   C  0.000331     0.0     0.0  0.002415  0.000000     0.0   \n",
       "4    10  10278   T   C  0.000000     0.0     0.0  0.000000  0.000000     0.0   \n",
       "\n",
       "   AF_oth  AF_popmax  \n",
       "0     0.0        NaN  \n",
       "1     0.0   0.000862  \n",
       "2     0.0        NaN  \n",
       "3     0.0        NaN  \n",
       "4     0.0        NaN  "
      ]
     },
     "execution_count": 10,
     "metadata": {},
     "output_type": "execute_result"
    }
   ],
   "source": [
    "db.get_maf_from_df(var_df, \"*\").head() # everything"
   ]
  },
  {
   "cell_type": "code",
   "execution_count": 11,
   "id": "35082a03-0bdb-4493-b85c-1151e826aa0f",
   "metadata": {},
   "outputs": [
    {
     "data": {
      "text/html": [
       "<div>\n",
       "<style scoped>\n",
       "    .dataframe tbody tr th:only-of-type {\n",
       "        vertical-align: middle;\n",
       "    }\n",
       "\n",
       "    .dataframe tbody tr th {\n",
       "        vertical-align: top;\n",
       "    }\n",
       "\n",
       "    .dataframe thead th {\n",
       "        text-align: right;\n",
       "    }\n",
       "</style>\n",
       "<table border=\"1\" class=\"dataframe\">\n",
       "  <thead>\n",
       "    <tr style=\"text-align: right;\">\n",
       "      <th></th>\n",
       "      <th>chrom</th>\n",
       "      <th>pos</th>\n",
       "      <th>ref</th>\n",
       "      <th>alt</th>\n",
       "    </tr>\n",
       "  </thead>\n",
       "  <tbody>\n",
       "    <tr>\n",
       "      <th>0</th>\n",
       "      <td>1</td>\n",
       "      <td>10</td>\n",
       "      <td>T</td>\n",
       "      <td>G</td>\n",
       "    </tr>\n",
       "    <tr>\n",
       "      <th>1</th>\n",
       "      <td>10</td>\n",
       "      <td>10265</td>\n",
       "      <td>C</td>\n",
       "      <td>T</td>\n",
       "    </tr>\n",
       "  </tbody>\n",
       "</table>\n",
       "</div>"
      ],
      "text/plain": [
       "  chrom    pos ref alt\n",
       "0     1     10   T   G\n",
       "1    10  10265   C   T"
      ]
     },
     "execution_count": 11,
     "metadata": {},
     "output_type": "execute_result"
    }
   ],
   "source": [
    "dummy_var_df = pd.DataFrame({\n",
    "    \"chrom\": [\"1\", \"10\"], \n",
    "    \"pos\": [10, 10265], \n",
    "    \"ref\": [\"T\", \"C\"], \n",
    "    \"alt\": [\"G\", \"T\"]})\n",
    "dummy_var_df"
   ]
  },
  {
   "cell_type": "code",
   "execution_count": 12,
   "id": "76eee641-f5ba-4e32-8b4b-44d13b05960d",
   "metadata": {},
   "outputs": [
    {
     "data": {
      "text/html": [
       "<div>\n",
       "<style scoped>\n",
       "    .dataframe tbody tr th:only-of-type {\n",
       "        vertical-align: middle;\n",
       "    }\n",
       "\n",
       "    .dataframe tbody tr th {\n",
       "        vertical-align: top;\n",
       "    }\n",
       "\n",
       "    .dataframe thead th {\n",
       "        text-align: right;\n",
       "    }\n",
       "</style>\n",
       "<table border=\"1\" class=\"dataframe\">\n",
       "  <thead>\n",
       "    <tr style=\"text-align: right;\">\n",
       "      <th></th>\n",
       "      <th>chrom</th>\n",
       "      <th>pos</th>\n",
       "      <th>ref</th>\n",
       "      <th>alt</th>\n",
       "      <th>AF</th>\n",
       "      <th>AF_afr</th>\n",
       "      <th>AF_eas</th>\n",
       "      <th>AF_fin</th>\n",
       "      <th>AF_nfe</th>\n",
       "      <th>AF_asj</th>\n",
       "      <th>AF_oth</th>\n",
       "      <th>AF_popmax</th>\n",
       "    </tr>\n",
       "  </thead>\n",
       "  <tbody>\n",
       "    <tr>\n",
       "      <th>0</th>\n",
       "      <td>1</td>\n",
       "      <td>10</td>\n",
       "      <td>T</td>\n",
       "      <td>G</td>\n",
       "      <td>NaN</td>\n",
       "      <td>NaN</td>\n",
       "      <td>NaN</td>\n",
       "      <td>NaN</td>\n",
       "      <td>NaN</td>\n",
       "      <td>NaN</td>\n",
       "      <td>NaN</td>\n",
       "      <td>None</td>\n",
       "    </tr>\n",
       "    <tr>\n",
       "      <th>1</th>\n",
       "      <td>10</td>\n",
       "      <td>10265</td>\n",
       "      <td>C</td>\n",
       "      <td>T</td>\n",
       "      <td>0.0</td>\n",
       "      <td>0.0</td>\n",
       "      <td>0.0</td>\n",
       "      <td>0.0</td>\n",
       "      <td>0.0</td>\n",
       "      <td>0.0</td>\n",
       "      <td>0.0</td>\n",
       "      <td>None</td>\n",
       "    </tr>\n",
       "  </tbody>\n",
       "</table>\n",
       "</div>"
      ],
      "text/plain": [
       "  chrom    pos ref alt   AF  AF_afr  AF_eas  AF_fin  AF_nfe  AF_asj  AF_oth  \\\n",
       "0     1     10   T   G  NaN     NaN     NaN     NaN     NaN     NaN     NaN   \n",
       "1    10  10265   C   T  0.0     0.0     0.0     0.0     0.0     0.0     0.0   \n",
       "\n",
       "  AF_popmax  \n",
       "0      None  \n",
       "1      None  "
      ]
     },
     "execution_count": 12,
     "metadata": {},
     "output_type": "execute_result"
    }
   ],
   "source": [
    "db.get_maf_from_df(dummy_var_df, \"*\").head()"
   ]
  },
  {
   "cell_type": "markdown",
   "id": "30788bc6-64b1-4e69-a171-8fc819a160a6",
   "metadata": {},
   "source": [
    "## You can pass also a single string as a variant"
   ]
  },
  {
   "cell_type": "code",
   "execution_count": 13,
   "id": "a3aa9db7-e9eb-4b25-a2aa-abd2b7e4ceb8",
   "metadata": {},
   "outputs": [
    {
     "data": {
      "text/plain": [
       "0.000331345"
      ]
     },
     "execution_count": 13,
     "metadata": {},
     "output_type": "execute_result"
    }
   ],
   "source": [
    "db.get_maf_from_str(\"10:10268:A>C\", \"AF\")"
   ]
  },
  {
   "cell_type": "code",
   "execution_count": 14,
   "id": "ae316d44-33f8-49b7-a888-a982668c21bd",
   "metadata": {},
   "outputs": [
    {
     "data": {
      "text/plain": [
       "chrom              10\n",
       "pos             10268\n",
       "ref                 A\n",
       "alt                 C\n",
       "AF           0.000331\n",
       "AF_afr            0.0\n",
       "AF_eas            0.0\n",
       "AF_fin       0.002415\n",
       "AF_nfe            0.0\n",
       "AF_asj            0.0\n",
       "AF_oth            0.0\n",
       "AF_popmax        None\n",
       "Name: 0, dtype: object"
      ]
     },
     "execution_count": 14,
     "metadata": {},
     "output_type": "execute_result"
    }
   ],
   "source": [
    "db.get_maf_from_str(\"10:10268:A>C\", \"*\")"
   ]
  },
  {
   "cell_type": "code",
   "execution_count": null,
   "id": "1fa8e1bd-f296-4650-8408-03fef18490a1",
   "metadata": {},
   "outputs": [],
   "source": []
  }
 ],
 "metadata": {
  "kernelspec": {
   "display_name": "utr_anno",
   "language": "python",
   "name": "utr_anno"
  },
  "language_info": {
   "codemirror_mode": {
    "name": "ipython",
    "version": 3
   },
   "file_extension": ".py",
   "mimetype": "text/x-python",
   "name": "python",
   "nbconvert_exporter": "python",
   "pygments_lexer": "ipython3",
   "version": "3.8.8"
  }
 },
 "nbformat": 4,
 "nbformat_minor": 5
}
